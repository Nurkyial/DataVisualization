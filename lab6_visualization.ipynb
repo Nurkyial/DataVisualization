{
  "nbformat": 4,
  "nbformat_minor": 0,
  "metadata": {
    "colab": {
      "provenance": [],
      "mount_file_id": "1Is2LkvImSjx0R1XtEteEbdskoJuNe_Pf",
      "authorship_tag": "ABX9TyOUyYYRMTLXkKZE/rxPYQHn",
      "include_colab_link": true
    },
    "kernelspec": {
      "name": "python3",
      "display_name": "Python 3"
    },
    "language_info": {
      "name": "python"
    }
  },
  "cells": [
    {
      "cell_type": "markdown",
      "metadata": {
        "id": "view-in-github",
        "colab_type": "text"
      },
      "source": [
        "<a href=\"https://colab.research.google.com/github/Nurkyial/DataVisualization/blob/main/lab6_visualization.ipynb\" target=\"_parent\"><img src=\"https://colab.research.google.com/assets/colab-badge.svg\" alt=\"Open In Colab\"/></a>"
      ]
    },
    {
      "cell_type": "markdown",
      "source": [
        "Алмазова Нуркыял\n",
        "М23-534"
      ],
      "metadata": {
        "id": "mENOX_NMK6ZT"
      }
    },
    {
      "cell_type": "markdown",
      "source": [
        "1. Импортировать данные northwind.db в соответствии с кодом (запрос надо будет доработать под задачи):\n"
      ],
      "metadata": {
        "id": "ug3DPcyge2jG"
      }
    },
    {
      "cell_type": "code",
      "execution_count": null,
      "metadata": {
        "id": "h97Ypk8f81BT"
      },
      "outputs": [],
      "source": [
        "import sqlite3\n",
        "import pandas as pd\n",
        "con=sqlite3.Connection('/content/drive/MyDrive/визуализация/northwind.db')\n",
        "df=pd.read_sql('''with revenues as (SELECT\n",
        " shipregion,\n",
        " customerid,\n",
        " orders.orderid,\n",
        " orderdate,\n",
        "  productid,\n",
        " (unitprice*quantity*(1-discount)) as revenue\n",
        "from orders,\"order details\"\n",
        "on orders.orderid=\"order details\".orderid\n",
        "group by orderdate,shipregion,customerid,orders.orderid, productid)\n",
        "SELECT orderdate,shipregion, customerid,sum(revenue) as revenuedaily, count(orderid) as ordersdaily\n",
        "from revenues\n",
        "group by orderdate;''',con=con)"
      ]
    },
    {
      "cell_type": "markdown",
      "source": [
        "2. Требуется спроектировать дэшборд для бизнес анализа базы  Northwind в соответствии со стандартным фреймворком (см. лекцию). Здесь и далее текстовые описания, схемы, и прочие доп материалы необходимо добавлять в колаб, реализующий дэшборд. Также далее приведены возможные варианты реализации дешборда, витрин и тп. Их можно и нужно дополнить.\n",
        "\n",
        "*  Предполагается, что с помощью дэшборда заказчик будет изучать динамику суммарных продаж, типовой заказ (например, через средний чек) в разрезе региона продаж, определять топ3 самых продаваемых категорий и товаров, определять топ 3 стран поставки и клиентов, гранулярность всех витрин – недельная. Определить аудиторию - список заказчиков (ролей)\n",
        "\n",
        "\n",
        "*  Определить метрики для решения задач из 2.1\n"
      ],
      "metadata": {
        "id": "oDG0cHf2feja"
      }
    },
    {
      "cell_type": "markdown",
      "source": [
        "3. Создать прототип (сделать эскиз)\n",
        "* нарисовать графики в порядке, который вы считаете необходимым, с пояснением, почему. Можно в paint. Предполагается использование линейных графиков, графиков солнечной вспышки, столбиковых диаграмм, ящичковых диаграмм, иерархических графиков (treemap).\n",
        "4. Наполнить данными прототип\n",
        "* Создайте витрину/датасет, описывающий сумму продаж, агрегированных на недельную гранулярность.\n",
        "* Создайте витрину/датасет, группирующий сумму заказов внутри топ3 категории товаров по топ 3 самым продаваемым товарам\n",
        "* Создайте витрину/датасет, группирующий сумму заказов по топ 3 странам поставки и топ 3 клиентам\n",
        "* Создайте витрину/датасет, группирующий средний чек внутри региона продаж (Западная Европа, США, и т.п.) по неделе продажи за весь период продаж\n"
      ],
      "metadata": {
        "id": "JwLJzKYaEYFl"
      }
    },
    {
      "cell_type": "markdown",
      "source": [
        "Определение аудитории:\n",
        "\n",
        "*   Роли пользователей: Руководители продаж, Аналитики, Менеджеры по работе с клиентами.\n",
        "\n",
        "\n",
        "\n",
        "\n",
        "Метрики для решения задач:\n",
        "*   Общая выручка (revenue).\n",
        "*   Средний чек (average order value).\n",
        "*   Количество заказов (order count).\n",
        "*   Топовые категории и товары (top categories and products).\n",
        "*   Топовые страны поставки и клиенты (top shipping countries and customers)."
      ],
      "metadata": {
        "id": "5rHFceyPE2Kp"
      }
    },
    {
      "cell_type": "code",
      "source": [
        "\n",
        "# Витрина: Сумма продаж, агрегированная на недельную гранулярность\n",
        "weekly_sales_query = '''\n",
        "WITH weekly_data AS (\n",
        "    SELECT\n",
        "        strftime('%Y-%W', orders.orderdate) AS week,\n",
        "        SUM(\"order details\".unitprice * \"order details\".quantity * (1 - \"order details\".discount)) AS revenue\n",
        "    FROM orders\n",
        "    JOIN \"order details\" ON orders.orderid = \"order details\".orderid\n",
        "    GROUP BY strftime('%Y-%W', orders.orderdate)\n",
        ")\n",
        "SELECT week, SUM(revenue) AS total_revenue\n",
        "FROM weekly_data\n",
        "GROUP BY week\n",
        "ORDER BY week;\n",
        "'''\n",
        "weekly_sales = pd.read_sql(weekly_sales_query, con)\n",
        "\n",
        "# Витрина: Сумма заказов внутри топ-3 категории товаров по топ-3 самым продаваемым товарам\n",
        "top_categories_products_query = '''\n",
        "WITH top_products AS (\n",
        "    SELECT\n",
        "        products.categoryid,\n",
        "        \"order details\".productid,\n",
        "        SUM(\"order details\".unitprice * \"order details\".quantity * (1 - \"order details\".discount)) AS total_revenue\n",
        "    FROM \"order details\"\n",
        "    JOIN products ON \"order details\".productid = products.productid\n",
        "    GROUP BY products.categoryid, \"order details\".productid\n",
        "    ORDER BY total_revenue DESC\n",
        "    LIMIT 3\n",
        ")\n",
        "SELECT\n",
        "    categories.categoryname,\n",
        "    products.productname,\n",
        "    SUM(\"order details\".unitprice * \"order details\".quantity * (1 - \"order details\".discount)) AS total_revenue\n",
        "FROM \"order details\"\n",
        "JOIN products ON \"order details\".productid = products.productid\n",
        "JOIN categories ON products.categoryid = categories.categoryid\n",
        "WHERE \"order details\".productid IN (SELECT productid FROM top_products)\n",
        "GROUP BY categories.categoryname, products.productname\n",
        "ORDER BY total_revenue DESC;\n",
        "'''\n",
        "top_categories_products = pd.read_sql(top_categories_products_query, con)\n",
        "\n",
        "# Витрина: Сумма заказов по топ-3 странам поставки и топ-3 клиентам\n",
        "top_countries_customers_query = '''\n",
        "WITH top_countries AS (\n",
        "    SELECT\n",
        "        orders.shipcountry,\n",
        "        SUM(\"order details\".unitprice * \"order details\".quantity * (1 - \"order details\".discount)) AS total_revenue\n",
        "    FROM orders\n",
        "    JOIN \"order details\" ON orders.orderid = \"order details\".orderid\n",
        "    GROUP BY orders.shipcountry\n",
        "    ORDER BY total_revenue DESC\n",
        "    LIMIT 3\n",
        "),\n",
        "top_customers AS (\n",
        "    SELECT\n",
        "        orders.customerid,\n",
        "        SUM(\"order details\".unitprice * \"order details\".quantity * (1 - \"order details\".discount)) AS total_revenue\n",
        "    FROM orders\n",
        "    JOIN \"order details\" ON orders.orderid = \"order details\".orderid\n",
        "    GROUP BY orders.customerid\n",
        "    ORDER BY total_revenue DESC\n",
        "    LIMIT 3\n",
        ")\n",
        "SELECT\n",
        "    orders.shipcountry,\n",
        "    orders.customerid,\n",
        "    SUM(\"order details\".unitprice * \"order details\".quantity * (1 - \"order details\".discount)) AS total_revenue\n",
        "FROM orders\n",
        "JOIN \"order details\" ON orders.orderid = \"order details\".orderid\n",
        "WHERE orders.shipcountry IN (SELECT shipcountry FROM top_countries)\n",
        "AND orders.customerid IN (SELECT customerid FROM top_customers)\n",
        "GROUP BY orders.shipcountry, orders.customerid\n",
        "ORDER BY total_revenue DESC;\n",
        "'''\n",
        "top_countries_customers = pd.read_sql(top_countries_customers_query, con)\n",
        "\n",
        "# Витрина: Средний чек по регионам (недельная гранулярность)\n",
        "average_check_query = '''\n",
        "WITH weekly_data AS (\n",
        "    SELECT\n",
        "        strftime('%Y-%W', orders.orderdate) AS week,\n",
        "        orders.shipregion,\n",
        "        SUM(\"order details\".unitprice * \"order details\".quantity * (1 - \"order details\".discount)) AS revenue,\n",
        "        COUNT(DISTINCT orders.orderid) AS order_count\n",
        "    FROM orders\n",
        "    JOIN \"order details\" ON orders.orderid = \"order details\".orderid\n",
        "    GROUP BY strftime('%Y-%W', orders.orderdate), orders.shipregion\n",
        ")\n",
        "SELECT\n",
        "    week,\n",
        "    shipregion,\n",
        "    SUM(revenue) / SUM(order_count) AS avg_check\n",
        "FROM weekly_data\n",
        "GROUP BY week, shipregion\n",
        "ORDER BY week, shipregion;\n",
        "'''\n",
        "average_check = pd.read_sql(average_check_query, con)\n"
      ],
      "metadata": {
        "id": "O7QduYMy_IoU"
      },
      "execution_count": null,
      "outputs": []
    },
    {
      "cell_type": "code",
      "source": [
        "!pip install jupyter-dash"
      ],
      "metadata": {
        "colab": {
          "base_uri": "https://localhost:8080/"
        },
        "collapsed": true,
        "id": "FlpCMbDen_fA",
        "outputId": "09bfac68-b828-4860-8a44-b9352b1c59d4"
      },
      "execution_count": null,
      "outputs": [
        {
          "output_type": "stream",
          "name": "stdout",
          "text": [
            "Collecting jupyter-dash\n",
            "  Downloading jupyter_dash-0.4.2-py3-none-any.whl (23 kB)\n",
            "Collecting dash (from jupyter-dash)\n",
            "  Downloading dash-2.17.0-py3-none-any.whl (7.5 MB)\n",
            "\u001b[2K     \u001b[90m━━━━━━━━━━━━━━━━━━━━━━━━━━━━━━━━━━━━━━━━\u001b[0m \u001b[32m7.5/7.5 MB\u001b[0m \u001b[31m20.2 MB/s\u001b[0m eta \u001b[36m0:00:00\u001b[0m\n",
            "\u001b[?25hRequirement already satisfied: requests in /usr/local/lib/python3.10/dist-packages (from jupyter-dash) (2.31.0)\n",
            "Requirement already satisfied: flask in /usr/local/lib/python3.10/dist-packages (from jupyter-dash) (2.2.5)\n",
            "Collecting retrying (from jupyter-dash)\n",
            "  Downloading retrying-1.3.4-py3-none-any.whl (11 kB)\n",
            "Requirement already satisfied: ipython in /usr/local/lib/python3.10/dist-packages (from jupyter-dash) (7.34.0)\n",
            "Requirement already satisfied: ipykernel in /usr/local/lib/python3.10/dist-packages (from jupyter-dash) (5.5.6)\n",
            "Collecting ansi2html (from jupyter-dash)\n",
            "  Downloading ansi2html-1.9.1-py3-none-any.whl (17 kB)\n",
            "Requirement already satisfied: nest-asyncio in /usr/local/lib/python3.10/dist-packages (from jupyter-dash) (1.6.0)\n",
            "Requirement already satisfied: Werkzeug<3.1 in /usr/local/lib/python3.10/dist-packages (from dash->jupyter-dash) (3.0.3)\n",
            "Requirement already satisfied: plotly>=5.0.0 in /usr/local/lib/python3.10/dist-packages (from dash->jupyter-dash) (5.15.0)\n",
            "Collecting dash-html-components==2.0.0 (from dash->jupyter-dash)\n",
            "  Downloading dash_html_components-2.0.0-py3-none-any.whl (4.1 kB)\n",
            "Collecting dash-core-components==2.0.0 (from dash->jupyter-dash)\n",
            "  Downloading dash_core_components-2.0.0-py3-none-any.whl (3.8 kB)\n",
            "Collecting dash-table==5.0.0 (from dash->jupyter-dash)\n",
            "  Downloading dash_table-5.0.0-py3-none-any.whl (3.9 kB)\n",
            "Requirement already satisfied: importlib-metadata in /usr/local/lib/python3.10/dist-packages (from dash->jupyter-dash) (7.1.0)\n",
            "Requirement already satisfied: typing-extensions>=4.1.1 in /usr/local/lib/python3.10/dist-packages (from dash->jupyter-dash) (4.11.0)\n",
            "Requirement already satisfied: setuptools in /usr/local/lib/python3.10/dist-packages (from dash->jupyter-dash) (67.7.2)\n",
            "Requirement already satisfied: Jinja2>=3.0 in /usr/local/lib/python3.10/dist-packages (from flask->jupyter-dash) (3.1.4)\n",
            "Requirement already satisfied: itsdangerous>=2.0 in /usr/local/lib/python3.10/dist-packages (from flask->jupyter-dash) (2.2.0)\n",
            "Requirement already satisfied: click>=8.0 in /usr/local/lib/python3.10/dist-packages (from flask->jupyter-dash) (8.1.7)\n",
            "Requirement already satisfied: ipython-genutils in /usr/local/lib/python3.10/dist-packages (from ipykernel->jupyter-dash) (0.2.0)\n",
            "Requirement already satisfied: traitlets>=4.1.0 in /usr/local/lib/python3.10/dist-packages (from ipykernel->jupyter-dash) (5.7.1)\n",
            "Requirement already satisfied: jupyter-client in /usr/local/lib/python3.10/dist-packages (from ipykernel->jupyter-dash) (6.1.12)\n",
            "Requirement already satisfied: tornado>=4.2 in /usr/local/lib/python3.10/dist-packages (from ipykernel->jupyter-dash) (6.3.3)\n",
            "Collecting jedi>=0.16 (from ipython->jupyter-dash)\n",
            "  Downloading jedi-0.19.1-py2.py3-none-any.whl (1.6 MB)\n",
            "\u001b[2K     \u001b[90m━━━━━━━━━━━━━━━━━━━━━━━━━━━━━━━━━━━━━━━━\u001b[0m \u001b[32m1.6/1.6 MB\u001b[0m \u001b[31m41.5 MB/s\u001b[0m eta \u001b[36m0:00:00\u001b[0m\n",
            "\u001b[?25hRequirement already satisfied: decorator in /usr/local/lib/python3.10/dist-packages (from ipython->jupyter-dash) (4.4.2)\n",
            "Requirement already satisfied: pickleshare in /usr/local/lib/python3.10/dist-packages (from ipython->jupyter-dash) (0.7.5)\n",
            "Requirement already satisfied: prompt-toolkit!=3.0.0,!=3.0.1,<3.1.0,>=2.0.0 in /usr/local/lib/python3.10/dist-packages (from ipython->jupyter-dash) (3.0.43)\n",
            "Requirement already satisfied: pygments in /usr/local/lib/python3.10/dist-packages (from ipython->jupyter-dash) (2.16.1)\n",
            "Requirement already satisfied: backcall in /usr/local/lib/python3.10/dist-packages (from ipython->jupyter-dash) (0.2.0)\n",
            "Requirement already satisfied: matplotlib-inline in /usr/local/lib/python3.10/dist-packages (from ipython->jupyter-dash) (0.1.7)\n",
            "Requirement already satisfied: pexpect>4.3 in /usr/local/lib/python3.10/dist-packages (from ipython->jupyter-dash) (4.9.0)\n",
            "Requirement already satisfied: charset-normalizer<4,>=2 in /usr/local/lib/python3.10/dist-packages (from requests->jupyter-dash) (3.3.2)\n",
            "Requirement already satisfied: idna<4,>=2.5 in /usr/local/lib/python3.10/dist-packages (from requests->jupyter-dash) (3.7)\n",
            "Requirement already satisfied: urllib3<3,>=1.21.1 in /usr/local/lib/python3.10/dist-packages (from requests->jupyter-dash) (2.0.7)\n",
            "Requirement already satisfied: certifi>=2017.4.17 in /usr/local/lib/python3.10/dist-packages (from requests->jupyter-dash) (2024.2.2)\n",
            "Requirement already satisfied: six>=1.7.0 in /usr/local/lib/python3.10/dist-packages (from retrying->jupyter-dash) (1.16.0)\n",
            "Requirement already satisfied: parso<0.9.0,>=0.8.3 in /usr/local/lib/python3.10/dist-packages (from jedi>=0.16->ipython->jupyter-dash) (0.8.4)\n",
            "Requirement already satisfied: MarkupSafe>=2.0 in /usr/local/lib/python3.10/dist-packages (from Jinja2>=3.0->flask->jupyter-dash) (2.1.5)\n",
            "Requirement already satisfied: ptyprocess>=0.5 in /usr/local/lib/python3.10/dist-packages (from pexpect>4.3->ipython->jupyter-dash) (0.7.0)\n",
            "Requirement already satisfied: tenacity>=6.2.0 in /usr/local/lib/python3.10/dist-packages (from plotly>=5.0.0->dash->jupyter-dash) (8.3.0)\n",
            "Requirement already satisfied: packaging in /usr/local/lib/python3.10/dist-packages (from plotly>=5.0.0->dash->jupyter-dash) (24.0)\n",
            "Requirement already satisfied: wcwidth in /usr/local/lib/python3.10/dist-packages (from prompt-toolkit!=3.0.0,!=3.0.1,<3.1.0,>=2.0.0->ipython->jupyter-dash) (0.2.13)\n",
            "Requirement already satisfied: zipp>=0.5 in /usr/local/lib/python3.10/dist-packages (from importlib-metadata->dash->jupyter-dash) (3.18.2)\n",
            "Requirement already satisfied: jupyter-core>=4.6.0 in /usr/local/lib/python3.10/dist-packages (from jupyter-client->ipykernel->jupyter-dash) (5.7.2)\n",
            "Requirement already satisfied: pyzmq>=13 in /usr/local/lib/python3.10/dist-packages (from jupyter-client->ipykernel->jupyter-dash) (24.0.1)\n",
            "Requirement already satisfied: python-dateutil>=2.1 in /usr/local/lib/python3.10/dist-packages (from jupyter-client->ipykernel->jupyter-dash) (2.8.2)\n",
            "Requirement already satisfied: platformdirs>=2.5 in /usr/local/lib/python3.10/dist-packages (from jupyter-core>=4.6.0->jupyter-client->ipykernel->jupyter-dash) (4.2.2)\n",
            "Installing collected packages: dash-table, dash-html-components, dash-core-components, retrying, jedi, ansi2html, dash, jupyter-dash\n",
            "Successfully installed ansi2html-1.9.1 dash-2.17.0 dash-core-components-2.0.0 dash-html-components-2.0.0 dash-table-5.0.0 jedi-0.19.1 jupyter-dash-0.4.2 retrying-1.3.4\n"
          ]
        }
      ]
    },
    {
      "cell_type": "markdown",
      "source": [
        "5. Развернуть в прод (создайте дэшборд, используя библиотеку Jupyter Dash) (далее идут примеры использования графиков, можете свои варианты)"
      ],
      "metadata": {
        "id": "w-waVZZvY1ih"
      }
    },
    {
      "cell_type": "code",
      "source": [
        "from jupyter_dash import JupyterDash\n",
        "from dash import dcc, html, Dash\n",
        "import plotly.express as px\n",
        "\n",
        "app = Dash(__name__)\n",
        "\n",
        "\n",
        "# 4.1\n",
        "line_fig = px.line(weekly_sales, x='week', y='total_revenue', title='Динамика суммарных продаж (недельная)')\n",
        "\n",
        "# 4.2\n",
        "sunburst_fig = px.sunburst(top_categories_products, path=['CategoryName', 'ProductName'], values='total_revenue', title='Топ-3 самых продаваемых категории и товаров')\n",
        "\n",
        "# 4.3\n",
        "treemap_fig = px.treemap(top_countries_customers, path=['ShipCountry', 'CustomerID'], values='total_revenue', title='Топ-3 страны поставки и клиенты')\n",
        "\n",
        "# 4.4\n",
        "box_fig = px.box(average_check, x='shipregion', y='avg_check', title='Распределение заказов по регионам')\n",
        "\n",
        "\n",
        "app.layout = html.Div(children=[\n",
        "    html.H1(children='Дэшборд Northwind'),\n",
        "    html.Div(children='Анализ данных Northwind.'),\n",
        "\n",
        "    dcc.Graph(\n",
        "        id='line',\n",
        "        figure=line_fig\n",
        "    ),\n",
        "\n",
        "    dcc.Graph(\n",
        "        id='sunburst',\n",
        "        figure=sunburst_fig\n",
        "    ),\n",
        "\n",
        "    dcc.Graph(\n",
        "        id='treemap',\n",
        "        figure=treemap_fig\n",
        "    ),\n",
        "\n",
        "    dcc.Graph(\n",
        "        id='box',\n",
        "        figure=box_fig\n",
        "    )\n",
        "\n",
        "])\n",
        "\n",
        "if __name__ == '__main__':\n",
        "    app.run(mode='inline')"
      ],
      "metadata": {
        "colab": {
          "base_uri": "https://localhost:8080/",
          "height": 671
        },
        "collapsed": true,
        "id": "ORjdtBxM4-pu",
        "outputId": "f6e16c65-8509-4bf0-ed3c-2df4a9a62a91"
      },
      "execution_count": null,
      "outputs": [
        {
          "output_type": "display_data",
          "data": {
            "text/plain": [
              "<IPython.core.display.Javascript object>"
            ],
            "application/javascript": [
              "(async (port, path, width, height, cache, element) => {\n",
              "    if (!google.colab.kernel.accessAllowed && !cache) {\n",
              "      return;\n",
              "    }\n",
              "    element.appendChild(document.createTextNode(''));\n",
              "    const url = await google.colab.kernel.proxyPort(port, {cache});\n",
              "    const iframe = document.createElement('iframe');\n",
              "    iframe.src = new URL(path, url).toString();\n",
              "    iframe.height = height;\n",
              "    iframe.width = width;\n",
              "    iframe.style.border = 0;\n",
              "    iframe.allow = [\n",
              "        'accelerometer',\n",
              "        'autoplay',\n",
              "        'camera',\n",
              "        'clipboard-read',\n",
              "        'clipboard-write',\n",
              "        'gyroscope',\n",
              "        'magnetometer',\n",
              "        'microphone',\n",
              "        'serial',\n",
              "        'usb',\n",
              "        'xr-spatial-tracking',\n",
              "    ].join('; ');\n",
              "    element.appendChild(iframe);\n",
              "  })(8050, \"/\", \"100%\", 650, false, window.element)"
            ]
          },
          "metadata": {}
        }
      ]
    },
    {
      "cell_type": "markdown",
      "source": [
        "6. Здесь и далее, в порядке учета обратной связи от заказчика - добавьте интерактивные элементы:\n",
        "\n",
        "6.1 Слайдер выбора года, для графика из 5.1\n",
        "\n",
        "6.2Выпадающий список страны поставки для 5.3\n"
      ],
      "metadata": {
        "id": "GSYQez5DbbbY"
      }
    },
    {
      "cell_type": "code",
      "source": [
        "from jupyter_dash import JupyterDash\n",
        "from dash import dcc, html, Dash, Input, Output\n",
        "import plotly.express as px\n",
        "\n",
        "app = Dash(__name__)\n",
        "\n",
        "\n",
        "# 4.1\n",
        "line_fig = px.line(weekly_sales, x='week', y='total_revenue', title='Динамика суммарных продаж (недельная)')\n",
        "\n",
        "# 4.2\n",
        "sunburst_fig = px.sunburst(top_categories_products, path=['CategoryName', 'ProductName'], values='total_revenue', title='Топ-3 самых продаваемых категории и товаров')\n",
        "\n",
        "# 4.3\n",
        "treemap_fig = px.treemap(top_countries_customers, path=['ShipCountry', 'CustomerID'], values='total_revenue', title='Топ-3 страны поставки и клиенты')\n",
        "\n",
        "# 4.4\n",
        "box_fig = px.box(average_check, x='shipregion', y='avg_check', title='Распределение заказов по регионам')\n",
        "\n",
        "\n",
        "app.layout = html.Div(children=[\n",
        "    html.H1(children='Дэшборд Northwind'),\n",
        "    html.Div(children='Анализ данных Northwind.'),\n",
        "\n",
        "    dcc.Slider(\n",
        "        id='year-slider',\n",
        "        min=weekly_sales['week'].apply(lambda x: int(x[:4])).min(),\n",
        "        max=weekly_sales['week'].apply(lambda x: int(x[:4])).max(),\n",
        "        value=weekly_sales['week'].apply(lambda x: int(x[:4])).min(),\n",
        "        marks={str(year): str(year) for year in weekly_sales['week'].apply(lambda x: int(x[:4])).unique()},\n",
        "        step=None\n",
        "    ),\n",
        "    dcc.Graph(id='line-graph'),\n",
        "\n",
        "    dcc.Graph(\n",
        "        id='sunburst',\n",
        "        figure=sunburst_fig\n",
        "    ),\n",
        "\n",
        "    dcc.Dropdown(\n",
        "        id='country-dropdown',\n",
        "        options=[{'label': country, 'value': country} for country in top_countries_customers['ShipCountry'].unique()],\n",
        "        value=top_countries_customers['ShipCountry'].unique()[0]\n",
        "    ),\n",
        "    dcc.Graph(id='bar-graph'),\n",
        "\n",
        "\n",
        "    dcc.Graph(\n",
        "        id='box',\n",
        "        figure=box_fig\n",
        "    )\n",
        "])\n",
        "\n",
        "@app.callback(\n",
        "        Output('line-graph', 'figure'),\n",
        "        Input('year-slider', 'value')\n",
        "    )\n",
        "def update_line_graph(selected_year):\n",
        "    filtered_df = weekly_sales[weekly_sales['week'].apply(lambda x: int(x[:4])) == selected_year]\n",
        "    fig = px.line(filtered_df, x='week', y='total_revenue', title=f'Динамика суммарных продаж (недельная) для {selected_year}')\n",
        "    return fig\n",
        "\n",
        "@app.callback(\n",
        "    Output('bar-graph', 'figure'),\n",
        "    Input('country-dropdown', 'value')\n",
        "    )\n",
        "def update_bar_graph(selected_country):\n",
        "    filtered_df = top_countries_customers[top_countries_customers['ShipCountry'] == selected_country]\n",
        "    fig = px.bar(filtered_df, x='CustomerID', y='total_revenue', title=f'Топ клиенты для страны {selected_country}')\n",
        "    return fig\n",
        "\n",
        "\n",
        "\n",
        "if __name__ == '__main__':\n",
        "    app.run(mode='inline')"
      ],
      "metadata": {
        "colab": {
          "base_uri": "https://localhost:8080/",
          "height": 671
        },
        "id": "CH47XTWlbju-",
        "outputId": "007508e4-3485-4d8c-9476-3eaaca008795"
      },
      "execution_count": null,
      "outputs": [
        {
          "output_type": "display_data",
          "data": {
            "text/plain": [
              "<IPython.core.display.Javascript object>"
            ],
            "application/javascript": [
              "(async (port, path, width, height, cache, element) => {\n",
              "    if (!google.colab.kernel.accessAllowed && !cache) {\n",
              "      return;\n",
              "    }\n",
              "    element.appendChild(document.createTextNode(''));\n",
              "    const url = await google.colab.kernel.proxyPort(port, {cache});\n",
              "    const iframe = document.createElement('iframe');\n",
              "    iframe.src = new URL(path, url).toString();\n",
              "    iframe.height = height;\n",
              "    iframe.width = width;\n",
              "    iframe.style.border = 0;\n",
              "    iframe.allow = [\n",
              "        'accelerometer',\n",
              "        'autoplay',\n",
              "        'camera',\n",
              "        'clipboard-read',\n",
              "        'clipboard-write',\n",
              "        'gyroscope',\n",
              "        'magnetometer',\n",
              "        'microphone',\n",
              "        'serial',\n",
              "        'usb',\n",
              "        'xr-spatial-tracking',\n",
              "    ].join('; ');\n",
              "    element.appendChild(iframe);\n",
              "  })(8050, \"/\", \"100%\", 650, false, window.element)"
            ]
          },
          "metadata": {}
        }
      ]
    },
    {
      "cell_type": "code",
      "source": [
        "\n",
        "\n",
        "weekly_sales['anomaly'] = (weekly_sales['total_revenue'] > weekly_sales['total_revenue'].mean() + 2 * weekly_sales['total_revenue'].std()) | (weekly_sales['total_revenue'] < weekly_sales['total_revenue'].mean() - 2 * weekly_sales['total_revenue'].std())\n",
        "\n",
        "app = JupyterDash(__name__)\n",
        "\n",
        "\n",
        "line_fig = px.line(weekly_sales, x='week', y='total_revenue', title='Динамика суммарных продаж (недельная)',\n",
        "                   labels={'week': 'Неделя', 'total_revenue': 'Суммарные продажи'})\n",
        "line_fig.update_layout(font=dict(family='Arial'), plot_bgcolor='rgba(230, 230, 230, 0.5)')\n",
        "line_fig.add_scatter(x=weekly_sales[weekly_sales['anomaly']]['week'], y=weekly_sales[weekly_sales['anomaly']]['total_revenue'],\n",
        "                     mode='markers', marker=dict(color='red', size=10), name='Аномалия')\n",
        "\n",
        "sunburst_fig = px.sunburst(top_categories_products, path=['CategoryName', 'ProductName'], values='total_revenue', title='Топ-3 самых продаваемых категории и товаров')\n",
        "sunburst_fig.update_layout(font=dict(family='Arial'), plot_bgcolor='rgba(230, 230, 230, 0.5)')\n",
        "\n",
        "treemap_fig = px.treemap(top_countries_customers, path=['ShipCountry', 'CustomerID'], values='total_revenue', title='Топ-3 страны поставки и клиенты')\n",
        "treemap_fig.update_layout(font=dict(family='Arial'), plot_bgcolor='rgba(230, 230, 230, 0.5)')\n",
        "\n",
        "box_fig = px.box(average_check, x='shipregion', y='avg_check', title='Распределение заказов по регионам', labels={'shipregion': 'Регион', 'avg_check': 'Средний чек'})\n",
        "box_fig.update_layout(font=dict(family='Arial'), plot_bgcolor='rgba(230, 230, 230, 0.5)')\n",
        "\n",
        "\n",
        "app.layout = html.Div(children=[\n",
        "    html.H1(children='Дэшборд Northwind'),\n",
        "    html.Div(children='Анализ данных Northwind.'),\n",
        "\n",
        "    # Слайдер выбора года для 5.1\n",
        "    dcc.Slider(\n",
        "        id='year-slider',\n",
        "        min=weekly_sales['week'].apply(lambda x: int(x[:4])).min(),\n",
        "        max=weekly_sales['week'].apply(lambda x: int(x[:4])).max(),\n",
        "        value=weekly_sales['week'].apply(lambda x: int(x[:4])).min(),\n",
        "        marks={str(year): str(year) for year in weekly_sales['week'].apply(lambda x: int(x[:4])).unique()},\n",
        "        step=None\n",
        "    ),\n",
        "    dcc.Graph(id='line-graph'),\n",
        "\n",
        "    # Диаграмма солнечной вспышки для 5.2\n",
        "    dcc.Graph(\n",
        "        id='sunburst',\n",
        "        figure=sunburst_fig\n",
        "    ),\n",
        "\n",
        "    # Выпадающий список страны поставки для 5.3\n",
        "    dcc.Dropdown(\n",
        "        id='country-dropdown',\n",
        "        options=[{'label': country, 'value': country} for country in top_countries_customers['ShipCountry'].unique()],\n",
        "        value=top_countries_customers['ShipCountry'].unique()[0]\n",
        "    ),\n",
        "    dcc.Graph(id='bar-graph'),\n",
        "\n",
        "    # Ящичковая диаграмма для 5.4\n",
        "    dcc.Graph(\n",
        "        id='box',\n",
        "        figure=box_fig\n",
        "    )\n",
        "])\n",
        "\n",
        "\n",
        "@app.callback(\n",
        "    Output('line-graph', 'figure'),\n",
        "    Input('year-slider', 'value')\n",
        ")\n",
        "def update_line_graph(selected_year):\n",
        "    filtered_df = weekly_sales[weekly_sales['week'].apply(lambda x: int(x[:4])) == selected_year]\n",
        "    fig = px.line(filtered_df, x='week', y='total_revenue', title=f'Динамика суммарных продаж (недельная) для {selected_year}',\n",
        "                  labels={'week': 'Неделя', 'total_revenue': 'Суммарные продажи'})\n",
        "    fig.update_layout(font=dict(family='Arial'), plot_bgcolor='rgba(230, 230, 230, 0.5)')\n",
        "    fig.add_scatter(x=filtered_df[filtered_df['anomaly']]['week'], y=filtered_df[filtered_df['anomaly']]['total_revenue'],\n",
        "                    mode='markers', marker=dict(color='red', size=10), name='Аномалия')\n",
        "    return fig\n",
        "\n",
        "@app.callback(\n",
        "    Output('bar-graph', 'figure'),\n",
        "    Input('country-dropdown', 'value')\n",
        ")\n",
        "def update_bar_graph(selected_country):\n",
        "    filtered_df = top_countries_customers[top_countries_customers['shipcountry'] == selected_country]\n",
        "    fig = px.bar(filtered_df, x='customerid', y='total_revenue', title=f'Топ клиенты для страны {selected_country}',\n",
        "                 labels={'customerid': 'Клиент', 'total_revenue': 'Суммарные продажи'})\n",
        "    fig.update_layout(font=dict(family='Arial'), plot_bgcolor='rgba(230, 230, 230, 0.5)')\n",
        "    return fig\n",
        "\n",
        "if __name__ == '__main__':\n",
        "    app.run(mode='inline')\n"
      ],
      "metadata": {
        "colab": {
          "base_uri": "https://localhost:8080/",
          "height": 762
        },
        "id": "BS9DjhPvpags",
        "outputId": "4f32b81c-735b-4b3d-f388-1ea3c759c214"
      },
      "execution_count": null,
      "outputs": [
        {
          "output_type": "stream",
          "name": "stderr",
          "text": [
            "/usr/local/lib/python3.10/dist-packages/dash/dash.py:556: UserWarning:\n",
            "\n",
            "JupyterDash is deprecated, use Dash instead.\n",
            "See https://dash.plotly.com/dash-in-jupyter for more details.\n",
            "\n"
          ]
        },
        {
          "output_type": "display_data",
          "data": {
            "text/plain": [
              "<IPython.core.display.Javascript object>"
            ],
            "application/javascript": [
              "(async (port, path, width, height, cache, element) => {\n",
              "    if (!google.colab.kernel.accessAllowed && !cache) {\n",
              "      return;\n",
              "    }\n",
              "    element.appendChild(document.createTextNode(''));\n",
              "    const url = await google.colab.kernel.proxyPort(port, {cache});\n",
              "    const iframe = document.createElement('iframe');\n",
              "    iframe.src = new URL(path, url).toString();\n",
              "    iframe.height = height;\n",
              "    iframe.width = width;\n",
              "    iframe.style.border = 0;\n",
              "    iframe.allow = [\n",
              "        'accelerometer',\n",
              "        'autoplay',\n",
              "        'camera',\n",
              "        'clipboard-read',\n",
              "        'clipboard-write',\n",
              "        'gyroscope',\n",
              "        'magnetometer',\n",
              "        'microphone',\n",
              "        'serial',\n",
              "        'usb',\n",
              "        'xr-spatial-tracking',\n",
              "    ].join('; ');\n",
              "    element.appendChild(iframe);\n",
              "  })(8050, \"/\", \"100%\", 650, false, window.element)"
            ]
          },
          "metadata": {}
        }
      ]
    }
  ]
}